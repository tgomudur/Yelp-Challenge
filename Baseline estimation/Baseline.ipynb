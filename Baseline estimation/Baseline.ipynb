{
 "metadata": {
  "name": "",
  "signature": "sha256:e3f811ef6d7062185420b921ce17733dff9cc0803e14f22a2fa5d096c38f0ca5"
 },
 "nbformat": 3,
 "nbformat_minor": 0,
 "worksheets": [
  {
   "cells": [
    {
     "cell_type": "code",
     "collapsed": false,
     "input": [
      "# Baseline estimation\n",
      "# Ruf = mu + Bu + Bf, where\n",
      "# Ruf = Predicted restaurant rating for restaurant f by user u\n",
      "# mu = The rating of the avg restaurant review (in Phoenix)\n",
      "# Bu = User u's avg rating - mu\n",
      "# Bf = Avg. rating for restaurant f - mu\n",
      "\n",
      "import csv\n",
      "from sets import Set\n",
      "\n",
      "# 1. Preparing data\n",
      "\n",
      "reviews = open('C:\\Yelp\\yelp_academic_dataset_review.csv')\n",
      "review_csv = csv.reader(reviews)\n",
      "\n",
      "phx_business = open('C:\\Yelp\\phx.csv')\n",
      "phx_csv = csv.reader(phx_business)\n",
      "phx_data = list(phx_csv)\n",
      "phx_b_ids = Set([])\n",
      "\n",
      "# Storing business ids of Phx restaurants in a list\n",
      "i = 0\n",
      "while i < len(phx_data):\n",
      "    phx_b_ids.add(phx_data[i][15])\n",
      "    i = i + 1\n",
      "\n",
      "# Writing restaurant reviews for all Phoenix resturants in a separate file\n",
      "with open('phx_rating.csv', 'wb') as csvfile:\n",
      "    mywriter = csv.writer(csvfile)    \n",
      "    for row in review_csv:            \n",
      "        if row[4] in phx_b_ids:\n",
      "            mywriter.writerow([row[0] , row[1] , row[4] , row[6]])\n"
     ],
     "language": "python",
     "metadata": {},
     "outputs": [],
     "prompt_number": 2
    },
    {
     "cell_type": "code",
     "collapsed": false,
     "input": [
      "# 2. Separating review data created - into training and test set\n",
      "import pandas as pd\n",
      "import numpy as np\n",
      "from sklearn.cross_validation import train_test_split\n",
      "\n",
      "df = pd.read_csv('phx_rating.csv')\n",
      "train, test = train_test_split(df, test_size = 0.2)"
     ],
     "language": "python",
     "metadata": {},
     "outputs": [],
     "prompt_number": 3
    },
    {
     "cell_type": "code",
     "collapsed": false,
     "input": [
      "#We have a 80/20 training to test set ratio\n",
      "print len(train)\n",
      "print len(test)"
     ],
     "language": "python",
     "metadata": {},
     "outputs": [
      {
       "output_type": "stream",
       "stream": "stdout",
       "text": [
        "150819\n",
        "37705\n"
       ]
      }
     ],
     "prompt_number": 6
    },
    {
     "cell_type": "code",
     "collapsed": false,
     "input": [
      "# 3. Calculating mu\n",
      "tot_ratings = 0\n",
      "for row in train:\n",
      "    tot_ratings += row[3]\n",
      "mu = float(tot_ratings) / float(len(train))\n",
      "print \"The average rating for a review is %f\" %mu"
     ],
     "language": "python",
     "metadata": {},
     "outputs": [
      {
       "output_type": "stream",
       "stream": "stdout",
       "text": [
        "The average rating for a review is 3.807564\n"
       ]
      }
     ],
     "prompt_number": 7
    },
    {
     "cell_type": "code",
     "collapsed": false,
     "input": [
      "# 4. Setting up to calculate Bu\n",
      "user_dict = {}\n",
      "# dict in the form of ['userid',(no. of reviews by the user, sum of all ratings)]\n",
      "\n",
      "for row in train:    \n",
      "    if row[0] not in user_dict:\n",
      "        user_dict[row[0]] = (1 , int(row[3]))\n",
      "    else:\n",
      "        tup = user_dict[row[0]]\n",
      "        new_tup = (tup[0] + 1 , tup[1] + int(row[3]))\n",
      "        user_dict[row[0]] = new_tup\n",
      "print \"Total no. of unique users in the training set = %d\" % len(user_dict)\n",
      "# A sample entry\n",
      "# print user_dict['t95D1tnWvAOy2sxXnI3GUA']"
     ],
     "language": "python",
     "metadata": {},
     "outputs": [
      {
       "output_type": "stream",
       "stream": "stdout",
       "text": [
        "Total no. of unique users in the training set = 56781\n"
       ]
      }
     ],
     "prompt_number": 8
    },
    {
     "cell_type": "code",
     "collapsed": false,
     "input": [
      "# 5. Setting up to calclate Bf\n",
      "restr_dict = {}\n",
      "# dict in the form of ['businessid',(no. of ratings for the restaurant, sum of all ratings)]\n",
      "for row in train:    \n",
      "    if row[2] not in restr_dict:\n",
      "        restr_dict[row[2]] = (1 , int(row[3]))\n",
      "    else:\n",
      "        tup = restr_dict[row[2]]\n",
      "        new_tup = (tup[0] + 1 , tup[1] + int(row[3]))\n",
      "        restr_dict[row[2]] = new_tup\n",
      "print \"Total no. of unique restaurants in the training set = %d\" % len(restr_dict)"
     ],
     "language": "python",
     "metadata": {},
     "outputs": [
      {
       "output_type": "stream",
       "stream": "stdout",
       "text": [
        "Total no. of unique restaurants in the training set = 2918\n"
       ]
      }
     ],
     "prompt_number": 9
    },
    {
     "cell_type": "code",
     "collapsed": false,
     "input": [
      "# Calculating the rating of the avg. restaurant, and avg. user\n",
      "avg_restr_rat = 0\n",
      "avg_user_rat = 0\n",
      "for key in restr_dict:\n",
      "    tup = restr_dict[key]\n",
      "    avg_restr_rat += float(tup[1]) / float(tup[0])\n",
      "avg_restr_rat = avg_restr_rat / len(restr_dict)\n",
      "\n",
      "for key in user_dict:\n",
      "    tup = user_dict[key]\n",
      "    avg_user_rat += float(tup[1]) / float(tup[0])\n",
      "avg_user_rat = avg_user_rat / len(user_dict)\n",
      "\n",
      "print avg_restr_rat\n",
      "print avg_user_rat"
     ],
     "language": "python",
     "metadata": {},
     "outputs": [
      {
       "output_type": "stream",
       "stream": "stdout",
       "text": [
        "3.44723467785\n",
        "3.82783280583\n"
       ]
      }
     ],
     "prompt_number": 7
    },
    {
     "cell_type": "code",
     "collapsed": false,
     "input": [
      "# 6. Calculating RMSE and MAE\n",
      "rmse_par = 0\n",
      "mae_par = 0\n",
      "mu_rms_par = 0\n",
      "mu_mae_par = 0\n",
      "for row in test:\n",
      "    real_rating = row[3]\n",
      "    \n",
      "    if row[0] in user_dict:\n",
      "        user_tup = user_dict[row[0]]\n",
      "        # mu * 7 added to neutralize outliers\n",
      "        user_avg = ((avg_user_rat * 7) + float(user_tup[1])) / (7 + float(user_tup[0]))\n",
      "        Bu = user_avg - mu\n",
      "    else:\n",
      "        Bu = 0\n",
      "    \n",
      "    if row[2] in restr_dict:\n",
      "        restr_tup = restr_dict[row[2]]\n",
      "        # mu * 20 added to neutralize outliers\n",
      "        restr_avg = ((avg_restr_rat * 20) + float(restr_tup[1])) / (20 + float(restr_tup[0]))\n",
      "        Bf = restr_avg - mu\n",
      "    else:\n",
      "        Bf = 0\n",
      "    \n",
      "    # This is our predicted rating\n",
      "    pred_rating = mu + Bu + Bf\n",
      "    rmse_par += (real_rating - pred_rating) ** 2\n",
      "    mae_par += abs(real_rating - pred_rating)\n",
      "    mu_rms_par += (real_rating - mu) ** 2\n",
      "    mu_mae_par += abs(real_rating - mu)\n",
      "    \n",
      "\n",
      "test_len = len(test)\n",
      "rmse = (rmse_par / test_len) ** 0.5\n",
      "mae = mae_par / test_len\n",
      "mu_err = (mu_rms_par / test_len) ** 0.5\n",
      "mu_abs_err = mu_mae_par / test_len\n",
      "print \"Root mean square error for baseline prediction = %f\" % rmse\n",
      "print \"Mean absolute error for baseline prediction = %f\" % mae\n",
      "print \"RMS Error when you predict mean (mu) for every instance = %f\" % mu_err\n",
      "print \"MAE Error when you predict mean (mu) for every instance = %f\" % mu_abs_err"
     ],
     "language": "python",
     "metadata": {},
     "outputs": [
      {
       "output_type": "stream",
       "stream": "stdout",
       "text": [
        "Root mean square error for baseline prediction = 1.181828\n",
        "Mean absolute error for baseline prediction = 0.950065\n",
        "RMS Error when you predict mean (mu) for every instance = 1.284065\n",
        "MAE Error when you predict mean (mu) for every instance = 1.042869\n"
       ]
      }
     ],
     "prompt_number": 8
    },
    {
     "cell_type": "code",
     "collapsed": false,
     "input": [],
     "language": "python",
     "metadata": {},
     "outputs": []
    }
   ],
   "metadata": {}
  }
 ]
}