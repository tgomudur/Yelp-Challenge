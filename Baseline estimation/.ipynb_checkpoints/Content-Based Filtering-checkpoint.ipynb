{
 "cells": [
  {
   "cell_type": "code",
   "execution_count": 11,
   "metadata": {
    "collapsed": true
   },
   "outputs": [],
   "source": [
    "# All imports go here\n",
    "\n",
    "import numpy as np\n",
    "from numpy import genfromtxt\n",
    "import csv"
   ]
  },
  {
   "cell_type": "code",
   "execution_count": null,
   "metadata": {
    "collapsed": false
   },
   "outputs": [],
   "source": [
    "# Step 1 : Loading the User x Restaurant matrix.\n",
    "# Y = np.transpose(genfromtxt('user_restr_mat_csv.csv', delimiter=','))\n",
    "user_restr_arr = []\n",
    "with open('user_restr_mat_csv.csv','r') as infile:\n",
    "    reader = csv.reader(infile)\n",
    "    for row in reader:\n",
    "        user_restr_arr.append(row)\n",
    "\n",
    "Y = np.transpose(np.asarray(user_restr_arr))\n",
    "\n",
    "# Checking shape of Y\n",
    "print \"Something\"\n",
    "print Y.shape"
   ]
  },
  {
   "cell_type": "code",
   "execution_count": 6,
   "metadata": {
    "collapsed": false
   },
   "outputs": [
    {
     "name": "stdout",
     "output_type": "stream",
     "text": [
      "(2925L, 6L)\n"
     ]
    }
   ],
   "source": [
    "# Step 2 : Loading the Restaurant feature matrix\n",
    "\n",
    "X = genfromtxt('restr_feature_matrix.csv', delimiter=',')\n",
    "print X.shape"
   ]
  },
  {
   "cell_type": "code",
   "execution_count": 9,
   "metadata": {
    "collapsed": false
   },
   "outputs": [],
   "source": [
    "test_arr = np.asarray([[1,2,3,4,6,7,8,9],[4,5,6,4,6,7,8,9],[7,8,9,4,6,7,8,9]])\n",
    "np.savetxt('test.csv',test_arr, delimiter=',')"
   ]
  },
  {
   "cell_type": "code",
   "execution_count": null,
   "metadata": {
    "collapsed": true
   },
   "outputs": [],
   "source": []
  }
 ],
 "metadata": {
  "kernelspec": {
   "display_name": "Python 2",
   "language": "python",
   "name": "python2"
  },
  "language_info": {
   "codemirror_mode": {
    "name": "ipython",
    "version": 2
   },
   "file_extension": ".py",
   "mimetype": "text/x-python",
   "name": "python",
   "nbconvert_exporter": "python",
   "pygments_lexer": "ipython2",
   "version": "2.7.11"
  }
 },
 "nbformat": 4,
 "nbformat_minor": 0
}
