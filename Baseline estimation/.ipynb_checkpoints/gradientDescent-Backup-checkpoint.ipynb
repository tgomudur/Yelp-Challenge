{
 "cells": [
  {
   "cell_type": "code",
   "execution_count": 2,
   "metadata": {
    "collapsed": false
   },
   "outputs": [
    {
     "name": "stdout",
     "output_type": "stream",
     "text": [
      "[[ 0.9   1.    0.99  0.1   0.  ]\n",
      " [ 0.    0.01  0.    1.    0.9 ]]\n",
      "[[5 5 0 0]\n",
      " [5 0 0 0]\n",
      " [0 4 0 0]\n",
      " [0 0 5 4]\n",
      " [0 0 5 0]]\n"
     ]
    }
   ],
   "source": [
    "import numpy as np\n",
    "\n",
    "# X - Restaurants x Users\n",
    "# Each row corresponds to user vector\n",
    "X = np.asarray([[5,5,0,0],[5,0,0,0],[0,4,0,0],[0,0,5,4],[0,0,5,0]])\n",
    "\n",
    "# Y is Feature vector of all restaurants. One row is a single feature vector\n",
    "# of one restaurant. Number of features = 2\n",
    "Y = np.transpose(np.asarray(\n",
    "[[ 0.9, 0 ],\n",
    " [ 1, 0.01],\n",
    " [ 0.99 , 0],\n",
    " [ 0.1  , 1],\n",
    " [ 0   ,0.9]]))\n",
    "\n",
    "print Y\n",
    "print X\n",
    "# print np.random.randn(10) #y\n",
    "# print np.random.randn(10, 5) #x"
   ]
  },
  {
   "cell_type": "code",
   "execution_count": 37,
   "metadata": {
    "collapsed": false,
    "scrolled": true
   },
   "outputs": [
    {
     "name": "stdout",
     "output_type": "stream",
     "text": [
      "[[ 0.9   0.  ]\n",
      " [ 1.    0.01]\n",
      " [ 0.99  0.  ]\n",
      " [ 0.1   1.  ]\n",
      " [ 0.    0.9 ]]\n",
      "[[5 5 0 0 0]\n",
      " [5 0 4 0 0]\n",
      " [0 0 0 5 5]\n",
      " [0 0 0 4 0]]\n"
     ]
    }
   ],
   "source": [
    "# X  = feature vector of restaurants\n",
    "\n",
    "X = np.asarray(\n",
    "[[ 0.9, 0 ],\n",
    " [ 1, 0.01],\n",
    " [ 0.99 , 0],\n",
    " [ 0.1  , 1],\n",
    " [ 0   ,0.9]])\n",
    "\n",
    "# Y = rating of user j on restaurant i\n",
    "\n",
    "Y = np.transpose(np.asarray([[5,5,0,0],[5,0,0,0],[0,4,0,0],[0,0,5,4],[0,0,5,0]]))\n",
    "\n",
    "# print X\n",
    "# print X.shape\n",
    "print X\n",
    "# print Y\n",
    "print Y"
   ]
  },
  {
   "cell_type": "code",
   "execution_count": 46,
   "metadata": {
    "collapsed": false
   },
   "outputs": [
    {
     "data": {
      "text/plain": [
       "(4L, 5L)"
      ]
     },
     "execution_count": 46,
     "metadata": {},
     "output_type": "execute_result"
    }
   ],
   "source": [
    "Y.shape"
   ]
  },
  {
   "cell_type": "code",
   "execution_count": 35,
   "metadata": {
    "collapsed": false,
    "scrolled": true
   },
   "outputs": [
    {
     "data": {
      "text/plain": [
       "SGDRegressor(alpha=0.0001, average=False, epsilon=0.1, eta0=0.01,\n",
       "       fit_intercept=True, l1_ratio=0.15, learning_rate='invscaling',\n",
       "       loss='squared_loss', n_iter=5, penalty='l2', power_t=0.25,\n",
       "       random_state=None, shuffle=True, verbose=0, warm_start=False)"
      ]
     },
     "execution_count": 35,
     "metadata": {},
     "output_type": "execute_result"
    }
   ],
   "source": [
    "# Running gradient descent on one feature of business\n",
    "from sklearn import linear_model\n",
    "\n",
    "model = linear_model.SGDRegressor()\n",
    "# Here Y[0] indicates first feature of the business.\n",
    "model.fit(X, Y[0])\n"
   ]
  },
  {
   "cell_type": "code",
   "execution_count": 36,
   "metadata": {
    "collapsed": false
   },
   "outputs": [
    {
     "data": {
      "text/plain": [
       "array([ 0.25817415, -0.00689859])"
      ]
     },
     "execution_count": 36,
     "metadata": {},
     "output_type": "execute_result"
    }
   ],
   "source": [
    "model.coef_"
   ]
  },
  {
   "cell_type": "code",
   "execution_count": 38,
   "metadata": {
    "collapsed": false
   },
   "outputs": [],
   "source": [
    "# Our parameters needed\n",
    "\n",
    "user_params_feature1 = model.coef_"
   ]
  },
  {
   "cell_type": "code",
   "execution_count": 56,
   "metadata": {
    "collapsed": false
   },
   "outputs": [],
   "source": [
    "# Here Y[1] indicates second feature of the business.\n",
    "user_params = []\n",
    "for i in range(int(Y.shape[0])):\n",
    "    model.fit(X, Y[i])\n",
    "    user_params.append(np.asarray(model.coef_))\n",
    "user_params =  np.asarray(user_params)"
   ]
  },
  {
   "cell_type": "code",
   "execution_count": 57,
   "metadata": {
    "collapsed": false
   },
   "outputs": [],
   "source": [
    "# Here Y[0] indicates one feature of the business.\n",
    "# model.fit(X, Y[0])"
   ]
  },
  {
   "cell_type": "code",
   "execution_count": 58,
   "metadata": {
    "collapsed": false
   },
   "outputs": [],
   "source": [
    "# # Our parameters needed\n",
    "\n",
    "# user_params_feature2 = model.coef_\n",
    "\n",
    "# zip(user_params_feature1, user_params_feature2)"
   ]
  },
  {
   "cell_type": "code",
   "execution_count": 60,
   "metadata": {
    "collapsed": false
   },
   "outputs": [
    {
     "data": {
      "text/plain": [
       "array([[ 0.23116256,  0.25678378,  0.25427882,  0.01933374, -0.00571589],\n",
       "       [ 0.20275344,  0.22521347,  0.22302879,  0.015715  , -0.00613185],\n",
       "       [ 0.00193066,  0.00481174,  0.00212373,  0.26687048,  0.23999037],\n",
       "       [ 0.00582771,  0.00758933,  0.00641048,  0.11205778,  0.10026923]])"
      ]
     },
     "execution_count": 60,
     "metadata": {},
     "output_type": "execute_result"
    }
   ],
   "source": [
    "# user_params = np.asarray([list(item) for item in user_params])\n",
    "\n",
    "# user_params = user_params\n",
    "user_params.dot(X.T)"
   ]
  },
  {
   "cell_type": "code",
   "execution_count": null,
   "metadata": {
    "collapsed": true
   },
   "outputs": [],
   "source": []
  }
 ],
 "metadata": {
  "kernelspec": {
   "display_name": "Python 2",
   "language": "python",
   "name": "python2"
  },
  "language_info": {
   "codemirror_mode": {
    "name": "ipython",
    "version": 2
   },
   "file_extension": ".py",
   "mimetype": "text/x-python",
   "name": "python",
   "nbconvert_exporter": "python",
   "pygments_lexer": "ipython2",
   "version": "2.7.11"
  }
 },
 "nbformat": 4,
 "nbformat_minor": 0
}
