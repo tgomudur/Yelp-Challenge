{
 "cells": [
  {
   "cell_type": "code",
   "execution_count": 37,
   "metadata": {
    "collapsed": false,
    "scrolled": true
   },
   "outputs": [
    {
     "name": "stdout",
     "output_type": "stream",
     "text": [
      "[[ 0.9   0.  ]\n",
      " [ 1.    0.01]\n",
      " [ 0.99  0.  ]\n",
      " [ 0.1   1.  ]\n",
      " [ 0.    0.9 ]]\n",
      "[[5 5 0 0 0]\n",
      " [5 0 4 0 0]\n",
      " [0 0 0 5 5]\n",
      " [0 0 0 4 0]]\n"
     ]
    }
   ],
   "source": [
    "import numpy as np\n",
    "\n",
    "# X  = feature vector of all restaurants\n",
    "\n",
    "X = np.asarray(\n",
    "[[ 0.9, 0 ],\n",
    " [ 1, 0.01],\n",
    " [ 0.99 , 0],\n",
    " [ 0.1  , 1],\n",
    " [ 0   ,0.9]])\n",
    "\n",
    "# Y = Each row is a vector of user ratings for all restaurants\n",
    "# Y = rating of user j on restaurant i\n",
    "\n",
    "Y = np.transpose(np.asarray([[5,5,0,0],[5,0,0,0],[0,4,0,0],[0,0,5,4],[0,0,5,0]]))\n",
    "\n",
    "print X\n",
    "print Y"
   ]
  },
  {
   "cell_type": "code",
   "execution_count": 56,
   "metadata": {
    "collapsed": false
   },
   "outputs": [],
   "source": [
    "# Here Y[1] indicates second feature of the business.\n",
    "user_params = []\n",
    "for i in range(int(Y.shape[0])):\n",
    "    model.fit(X, Y[i])\n",
    "    user_params.append(np.asarray(model.coef_))\n",
    "user_params =  np.asarray(user_params)"
   ]
  },
  {
   "cell_type": "code",
   "execution_count": 60,
   "metadata": {
    "collapsed": false
   },
   "outputs": [
    {
     "data": {
      "text/plain": [
       "array([[ 0.23116256,  0.25678378,  0.25427882,  0.01933374, -0.00571589],\n",
       "       [ 0.20275344,  0.22521347,  0.22302879,  0.015715  , -0.00613185],\n",
       "       [ 0.00193066,  0.00481174,  0.00212373,  0.26687048,  0.23999037],\n",
       "       [ 0.00582771,  0.00758933,  0.00641048,  0.11205778,  0.10026923]])"
      ]
     },
     "execution_count": 60,
     "metadata": {},
     "output_type": "execute_result"
    }
   ],
   "source": [
    "# Finding the predicted ratings of user for a restaurant\n",
    "\n",
    "# Each row is a vector of one user ratings for all restaurants\n",
    "user_params.dot(X.T)"
   ]
  },
  {
   "cell_type": "code",
   "execution_count": 72,
   "metadata": {
    "collapsed": false
   },
   "outputs": [
    {
     "data": {
      "text/plain": [
       "array([[ 4.5       ,  4.99876367,  4.95      ,  0.37636653, -0.11127012],\n",
       "       [ 4.5       ,  4.99848786,  4.95      ,  0.3487856 , -0.13609296],\n",
       "       [ 0.03620135,  0.09022372,  0.03982148,  5.00402237,  4.5       ],\n",
       "       [ 0.26154263,  0.34060292,  0.28769689,  5.02906029,  4.5       ]])"
      ]
     },
     "execution_count": 72,
     "metadata": {},
     "output_type": "execute_result"
    }
   ],
   "source": [
    "# Scale ratings to 0-5\n",
    "\n",
    "# max_rating = 5\n",
    "# scaled_params = []\n",
    "# for myarr in user_params:\n",
    "#     scaled_params.append(myarr/float(np.amax(myarr))*max_rating)\n",
    "\n",
    "# # user_params = (user_params/np.amax(user_params))*max_rating\n",
    "# # user_params.dot(X.T)\n",
    "# scaled_params = np.asarray(scaled_params)\n",
    "# scaled_params\n",
    "# scaled_params.dot(X.T)\n",
    "\n",
    "# OUTPUT:\n",
    "\"\"\"\n",
    "Out[72]:\n",
    "array([[ 4.5       ,  4.99876367,  4.95      ,  0.37636653, -0.11127012],\n",
    "       [ 4.5       ,  4.99848786,  4.95      ,  0.3487856 , -0.13609296],\n",
    "       [ 0.03620135,  0.09022372,  0.03982148,  5.00402237,  4.5       ],\n",
    "       [ 0.26154263,  0.34060292,  0.28769689,  5.02906029,  4.5       ]])\n",
    "\"\"\"\n"
   ]
  },
  {
   "cell_type": "code",
   "execution_count": 81,
   "metadata": {
    "collapsed": false
   },
   "outputs": [
    {
     "name": "stdout",
     "output_type": "stream",
     "text": [
      "[[ 4.5         5.0000845   4.95        0.50845032  0.00760529]\n",
      " [ 3.942307    4.38034111  4.3365377   0.43803411  0.        ]\n",
      " [ 0.          0.05        0.          5.          4.5       ]\n",
      " [ 0.07650202  0.10661774  0.08415222  2.17004984  1.94539465]]\n"
     ]
    }
   ],
   "source": [
    "# Scale rating 0-5 \n",
    "from sklearn import preprocessing\n",
    "\"\"\"\n",
    "array([[ 4.5       ,  5.0000845 ,  4.95      ,  0.50845032,  0.00760529],\n",
    "       [ 3.942307  ,  4.38034111,  4.3365377 ,  0.43803411,  0.        ],\n",
    "       [ 0.        ,  0.05      ,  0.        ,  5.        ,  4.5       ],\n",
    "       [ 0.07650202,  0.10661774,  0.08415222,  2.17004984,  1.94539465]])\n",
    "\"\"\"\n",
    "minmaxscaler = preprocessing.MinMaxScaler(feature_range=(0, 5), copy=True)\n",
    "\n",
    "scaled_params = minmaxscaler.fit_transform(user_params)\n",
    "predicted_ratings = scaled_params.dot(X.T)\n",
    "\n",
    "print predicted_ratings\n"
   ]
  },
  {
   "cell_type": "code",
   "execution_count": 79,
   "metadata": {
    "collapsed": false
   },
   "outputs": [
    {
     "name": "stdout",
     "output_type": "stream",
     "text": [
      "[[ 4.5  5.   5.   0.5  0. ]\n",
      " [ 4.   4.5  4.5  0.5  0. ]\n",
      " [ 0.   0.   0.   5.   4.5]\n",
      " [ 0.   0.   0.   2.   2. ]]\n"
     ]
    }
   ],
   "source": [
    "# Lets try rounding to nearest 0.5\n",
    "\n",
    "def getRoundedThreshold(a, MinClip=0.5):\n",
    "    return np.round(np.array(a, dtype=float) / MinClip) * MinClip\n",
    "\n",
    "predicted_ratings = getRoundedThreshold(predicted_ratings)\n",
    "\n",
    "print predicted_ratings"
   ]
  },
  {
   "cell_type": "code",
   "execution_count": 82,
   "metadata": {
    "collapsed": false
   },
   "outputs": [
    {
     "name": "stdout",
     "output_type": "stream",
     "text": [
      "0.712945472745\n"
     ]
    }
   ],
   "source": [
    "# Finding RMSE \n",
    "\n",
    "from sklearn.metrics import mean_squared_error\n",
    "from math import sqrt\n",
    "\n",
    "actual_ratings = np.transpose(np.asarray([[5,5,0,0],[5,5,0,0],[5,4,0,0],[0,0,5,4],[0,0,5,4]]))\n",
    "\n",
    "rms = sqrt(mean_squared_error(actual_ratings, predicted_ratings))\n",
    "\n",
    "print rms"
   ]
  },
  {
   "cell_type": "code",
   "execution_count": null,
   "metadata": {
    "collapsed": true
   },
   "outputs": [],
   "source": []
  }
 ],
 "metadata": {
  "kernelspec": {
   "display_name": "Python 2",
   "language": "python",
   "name": "python2"
  },
  "language_info": {
   "codemirror_mode": {
    "name": "ipython",
    "version": 2
   },
   "file_extension": ".py",
   "mimetype": "text/x-python",
   "name": "python",
   "nbconvert_exporter": "python",
   "pygments_lexer": "ipython2",
   "version": "2.7.11"
  }
 },
 "nbformat": 4,
 "nbformat_minor": 0
}
